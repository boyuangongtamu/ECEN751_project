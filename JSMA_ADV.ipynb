{
 "cells": [
  {
   "cell_type": "code",
   "execution_count": 8,
   "metadata": {
    "collapsed": false
   },
   "outputs": [],
   "source": [
    "from __future__ import absolute_import\n",
    "from __future__ import division\n",
    "from __future__ import print_function\n",
    "from __future__ import unicode_literals\n",
    "\n",
    "import keras\n",
    "import numpy as np\n",
    "import os\n",
    "from six.moves import xrange\n",
    "\n",
    "import tensorflow as tf\n",
    "from tensorflow.python.platform import app\n",
    "from tensorflow.python.platform import flags\n",
    "\n",
    "from cleverhans.utils_mnist import data_mnist\n",
    "from cleverhans.utils_tf import model_train, model_eval\n",
    "\n",
    "from cleverhans.attacks import jsma\n",
    "from cleverhans.attacks_tf import jacobian_graph\n",
    "from cleverhans.utils import other_classes, cnn_model, pair_visual, grid_visual\n",
    "from Gnet import G_10, G_11, G_12, G_13"
   ]
  },
  {
   "cell_type": "code",
   "execution_count": 2,
   "metadata": {
    "collapsed": true
   },
   "outputs": [],
   "source": [
    "FLAGS = flags.FLAGS\n",
    "\n",
    "flags.DEFINE_string('train_dir', '/tmp', 'Directory storing the saved model.')\n",
    "flags.DEFINE_string('filename', 'mnist.ckpt', 'Filename to save model under.')\n",
    "flags.DEFINE_boolean('viz_enabled', True, 'Enable sample visualization.')\n",
    "flags.DEFINE_integer('nb_epochs', 6, 'Number of epochs to train model')\n",
    "flags.DEFINE_integer('batch_size', 128, 'Size of training batches')\n",
    "flags.DEFINE_integer('nb_classes', 10, 'Number of classification classes')\n",
    "flags.DEFINE_integer('img_rows', 28, 'Input row dimension')\n",
    "flags.DEFINE_integer('img_cols', 28, 'Input column dimension')\n",
    "flags.DEFINE_integer('nb_channels', 1, 'Nb of color channels in the input.')\n",
    "flags.DEFINE_integer('nb_filters', 64, 'Number of convolutional filter to use')\n",
    "flags.DEFINE_integer('nb_pool', 2, 'Size of pooling area for max pooling')\n",
    "flags.DEFINE_integer('source_samples', 10, 'Nb of test set examples to attack')\n",
    "flags.DEFINE_float('learning_rate', 0.1, 'Learning rate for training')"
   ]
  },
  {
   "cell_type": "code",
   "execution_count": 3,
   "metadata": {
    "collapsed": false
   },
   "outputs": [
    {
     "name": "stdout",
     "output_type": "stream",
     "text": [
      "Created TensorFlow session and set Keras backend.\n",
      "X_train shape: (60000, 28, 28, 1)\n",
      "60000 train samples\n",
      "10000 test samples\n",
      "Loaded MNIST test data.\n"
     ]
    }
   ],
   "source": [
    "# Set TF random seed to improve reproducibility\n",
    "tf.set_random_seed(1234)\n",
    "\n",
    "###########################################################################\n",
    "# Define the dataset and model\n",
    "###########################################################################\n",
    "\n",
    "# Image dimensions ordering should follow the Theano convention\n",
    "if keras.backend.image_dim_ordering() != 'tf':\n",
    "    keras.backend.set_image_dim_ordering('tf')\n",
    "    print(\"INFO: '~/.keras/keras.json' sets 'image_dim_ordering' \"\n",
    "          \"to 'th', temporarily setting to 'tf'\")\n",
    "\n",
    "# Create TF session and set as Keras backend session\n",
    "sess = tf.Session()\n",
    "keras.backend.set_session(sess)\n",
    "print(\"Created TensorFlow session and set Keras backend.\")\n",
    "\n",
    "# Get MNIST test data\n",
    "X_train, Y_train, X_test, Y_test = data_mnist()\n",
    "print(\"Loaded MNIST test data.\")\n",
    "\n",
    "# Define input TF placeholder\n",
    "x = tf.placeholder(tf.float32, shape=(None, 28, 28, 1))\n",
    "y = tf.placeholder(tf.float32, shape=(None, 10))"
   ]
  },
  {
   "cell_type": "code",
   "execution_count": 4,
   "metadata": {
    "collapsed": false,
    "scrolled": true
   },
   "outputs": [
    {
     "name": "stdout",
     "output_type": "stream",
     "text": [
      "Defined TensorFlow model graph.\n",
      "INFO:tensorflow:Restoring parameters from /home/boyuan/Documents/research/Advesarial_examples/Project/store/G11/G11model\n"
     ]
    }
   ],
   "source": [
    "# Define TF model graph\n",
    "model_1 = G_11()\n",
    "predictions_1 = model_1(x)\n",
    "print(\"Defined TensorFlow model graph.\")\n",
    "\n",
    "###########################################################################\n",
    "# Training the model using TensorFlow\n",
    "###########################################################################\n",
    "\n",
    "# Train an MNIST model if it does not exist in the train_dir folder\n",
    "saver = tf.train.Saver()\n",
    "save_path = '/home/boyuan/Documents/research/Advesarial_examples/Project/store/G11/G11model'\n",
    "saver.restore(sess, save_path)\n",
    "\n"
   ]
  },
  {
   "cell_type": "code",
   "execution_count": 5,
   "metadata": {
    "collapsed": false
   },
   "outputs": [
    {
     "name": "stdout",
     "output_type": "stream",
     "text": [
      "Test accuracy on legitimate test examples: 0.9849\n"
     ]
    }
   ],
   "source": [
    "# Evaluate the accuracy of the MNIST model on legitimate test examples\n",
    "eval_params = {'batch_size': FLAGS.batch_size}\n",
    "accuracy = model_eval(sess, x, y, predictions_1, X_test, Y_test,\n",
    "                      args=eval_params)\n",
    "assert X_test.shape[0] == 10000, X_test.shape\n",
    "print('Test accuracy on legitimate test examples: {0}'.format(accuracy))"
   ]
  },
  {
   "cell_type": "code",
   "execution_count": 9,
   "metadata": {
    "collapsed": false,
    "scrolled": true
   },
   "outputs": [
    {
     "name": "stdout",
     "output_type": "stream",
     "text": [
      "Crafting 10 * 9 adversarial examples\n",
      "--------------------------------------\n",
      "Creating adv. example for target class 1\n",
      "Maximum number of iterations: 39.0\n",
      "Current iteration: 5 - Current Prediction: 0\n",
      "Current iteration: 10 - Current Prediction: 0\n",
      "Current iteration: 15 - Current Prediction: 0\n",
      "Current iteration: 20 - Current Prediction: 0\n",
      "Current iteration: 25 - Current Prediction: 0\n",
      "Current iteration: 30 - Current Prediction: 0\n",
      "Current iteration: 35 - Current Prediction: 0\n",
      "Unsuccesful\n"
     ]
    },
    {
     "data": {
      "image/png": "[encoded data removed]",
      "text/plain": [
       "<matplotlib.figure.Figure at 0x7f861894e4d0>"
      ]
     },
     "metadata": {},
     "output_type": "display_data"
    },
    {
     "name": "stdout",
     "output_type": "stream",
     "text": [
      "--------------------------------------\n",
      "Creating adv. example for target class 2\n",
      "Maximum number of iterations: 39.0\n",
      "Current iteration: 5 - Current Prediction: 0\n",
      "Current iteration: 10 - Current Prediction: 0\n",
      "Successful\n"
     ]
    },
    {
     "data": {
      "image/png": "[encoded data removed]",
      "text/plain": [
       "<matplotlib.figure.Figure at 0x7f861868dc50>"
      ]
     },
     "metadata": {},
     "output_type": "display_data"
    },
    {
     "name": "stdout",
     "output_type": "stream",
     "text": [
      "--------------------------------------\n",
      "Creating adv. example for target class 3\n",
      "Maximum number of iterations: 39.0\n",
      "Current iteration: 5 - Current Prediction: 0\n",
      "Current iteration: 10 - Current Prediction: 0\n",
      "Current iteration: 15 - Current Prediction: 0\n",
      "Successful\n"
     ]
    },
    {
     "data": {
      "image/png": "[encoded data removed]",
      "text/plain": [
       "<matplotlib.figure.Figure at 0x7f8618621650>"
      ]
     },
     "metadata": {},
     "output_type": "display_data"
    },
    {
     "name": "stdout",
     "output_type": "stream",
     "text": [
      "--------------------------------------\n",
      "Creating adv. example for target class 4\n",
      "Maximum number of iterations: 39.0\n",
      "Current iteration: 5 - Current Prediction: 0\n",
      "Current iteration: 10 - Current Prediction: 0\n",
      "Current iteration: 15 - Current Prediction: 0\n",
      "Current iteration: 20 - Current Prediction: 0\n",
      "Current iteration: 25 - Current Prediction: 0\n",
      "Current iteration: 30 - Current Prediction: 0\n",
      "Successful\n"
     ]
    },
    {
     "data": {
      "image/png": "[encoded data removed]",
      "text/plain": [
       "<matplotlib.figure.Figure at 0x7f861854a7d0>"
      ]
     },
     "metadata": {},
     "output_type": "display_data"
    },
    {
     "name": "stdout",
     "output_type": "stream",
     "text": [
      "--------------------------------------\n",
      "Creating adv. example for target class 5\n",
      "Maximum number of iterations: 39.0\n",
      "Current iteration: 5 - Current Prediction: 0\n",
      "Current iteration: 10 - Current Prediction: 0\n",
      "Current iteration: 15 - Current Prediction: 0\n",
      "Current iteration: 20 - Current Prediction: 0\n",
      "Current iteration: 25 - Current Prediction: 0\n",
      "Current iteration: 30 - Current Prediction: 5\n",
      "Successful\n"
     ]
    },
    {
     "data": {
      "image/png": "[encoded data removed]",
      "text/plain": [
       "<matplotlib.figure.Figure at 0x7f86184e7e10>"
      ]
     },
     "metadata": {},
     "output_type": "display_data"
    },
    {
     "name": "stdout",
     "output_type": "stream",
     "text": [
      "--------------------------------------\n",
      "Creating adv. example for target class 6\n",
      "Maximum number of iterations: 39.0\n",
      "Current iteration: 5 - Current Prediction: 0\n",
      "Current iteration: 10 - Current Prediction: 0\n",
      "Current iteration: 15 - Current Prediction: 6\n",
      "Successful\n"
     ]
    },
    {
     "data": {
      "image/png": "[encoded data removed]",
      "text/plain": [
       "<matplotlib.figure.Figure at 0x7f8618415e90>"
      ]
     },
     "metadata": {},
     "output_type": "display_data"
    },
    {
     "name": "stdout",
     "output_type": "stream",
     "text": [
      "--------------------------------------\n",
      "Creating adv. example for target class 7\n",
      "Maximum number of iterations: 39.0\n",
      "Current iteration: 5 - Current Prediction: 0\n",
      "Current iteration: 10 - Current Prediction: 0\n",
      "Current iteration: 15 - Current Prediction: 0\n",
      "Current iteration: 20 - Current Prediction: 0\n",
      "Current iteration: 25 - Current Prediction: 0\n",
      "Current iteration: 30 - Current Prediction: 0\n",
      "Successful\n"
     ]
    },
    {
     "data": {
      "image/png": "[encoded data removed]",
      "text/plain": [
       "<matplotlib.figure.Figure at 0x7f8618349c10>"
      ]
     },
     "metadata": {},
     "output_type": "display_data"
    },
    {
     "name": "stdout",
     "output_type": "stream",
     "text": [
      "--------------------------------------\n",
      "Creating adv. example for target class 8\n",
      "Maximum number of iterations: 39.0\n",
      "Current iteration: 5 - Current Prediction: 0\n",
      "Current iteration: 10 - Current Prediction: 0\n",
      "Current iteration: 15 - Current Prediction: 0\n",
      "Current iteration: 20 - Current Prediction: 0\n",
      "Successful\n"
     ]
    },
    {
     "data": {
      "image/png": "[encoded data removed]",
      "text/plain": [
       "<matplotlib.figure.Figure at 0x7f8618281d90>"
      ]
     },
     "metadata": {},
     "output_type": "display_data"
    },
    {
     "name": "stdout",
     "output_type": "stream",
     "text": [
      "--------------------------------------\n",
      "Creating adv. example for target class 9\n",
      "Maximum number of iterations: 39.0\n",
      "Current iteration: 5 - Current Prediction: 0\n",
      "Current iteration: 10 - Current Prediction: 0\n",
      "Current iteration: 15 - Current Prediction: 0\n",
      "Current iteration: 20 - Current Prediction: 0\n",
      "Current iteration: 25 - Current Prediction: 0\n",
      "Current iteration: 30 - Current Prediction: 0\n",
      "Successful\n"
     ]
    },
    {
     "data": {
      "image/png": "[encoded data removed]",
      "text/plain": [
       "<matplotlib.figure.Figure at 0x7f8618236690>"
      ]
     },
     "metadata": {},
     "output_type": "display_data"
    },
    {
     "name": "stdout",
     "output_type": "stream",
     "text": [
      "--------------------------------------\n",
      "Creating adv. example for target class 0\n",
      "Maximum number of iterations: 39.0\n",
      "Current iteration: 5 - Current Prediction: 1\n",
      "Current iteration: 10 - Current Prediction: 1\n",
      "Current iteration: 15 - Current Prediction: 1\n",
      "Current iteration: 20 - Current Prediction: 6\n",
      "Current iteration: 25 - Current Prediction: 6\n",
      "Successful\n"
     ]
    },
    {
     "data": {
      "image/png": "[encoded data removed]",
      "text/plain": [
       "<matplotlib.figure.Figure at 0x7f861816a490>"
      ]
     },
     "metadata": {},
     "output_type": "display_data"
    },
    {
     "name": "stdout",
     "output_type": "stream",
     "text": [
      "--------------------------------------\n",
      "Creating adv. example for target class 2\n",
      "Maximum number of iterations: 39.0\n",
      "Current iteration: 5 - Current Prediction: 1\n",
      "Current iteration: 10 - Current Prediction: 2\n",
      "Successful\n"
     ]
    },
    {
     "data": {
      "image/png": "[encoded data removed]",
      "text/plain": [
       "<matplotlib.figure.Figure at 0x7f8618220810>"
      ]
     },
     "metadata": {},
     "output_type": "display_data"
    },
    {
     "name": "stdout",
     "output_type": "stream",
     "text": [
      "--------------------------------------\n",
      "Creating adv. example for target class 3\n",
      "Maximum number of iterations: 39.0\n",
      "Current iteration: 5 - Current Prediction: 1\n",
      "Current iteration: 10 - Current Prediction: 3\n",
      "Successful\n"
     ]
    },
    {
     "data": {
      "image/png": "[encoded data removed]",
      "text/plain": [
       "<matplotlib.figure.Figure at 0x7f86183f6310>"
      ]
     },
     "metadata": {},
     "output_type": "display_data"
    },
    {
     "name": "stdout",
     "output_type": "stream",
     "text": [
      "--------------------------------------\n",
      "Creating adv. example for target class 4\n",
      "Maximum number of iterations: 39.0\n",
      "Current iteration: 5 - Current Prediction: 1\n",
      "Successful\n"
     ]
    },
    {
     "data": {
      "image/png": "[encoded data removed]",
      "text/plain": [
       "<matplotlib.figure.Figure at 0x7f8618ea9bd0>"
      ]
     },
     "metadata": {},
     "output_type": "display_data"
    },
    {
     "name": "stdout",
     "output_type": "stream",
     "text": [
      "--------------------------------------\n",
      "Creating adv. example for target class 5\n",
      "Maximum number of iterations: 39.0\n",
      "Current iteration: 5 - Current Prediction: 1\n",
      "Current iteration: 10 - Current Prediction: 5\n",
      "Successful\n"
     ]
    },
    {
     "data": {
      "image/png": "[encoded data removed]",
      "text/plain": [
       "<matplotlib.figure.Figure at 0x7f8618247a90>"
      ]
     },
     "metadata": {},
     "output_type": "display_data"
    },
    {
     "name": "stdout",
     "output_type": "stream",
     "text": [
      "--------------------------------------\n",
      "Creating adv. example for target class 6\n",
      "Maximum number of iterations: 39.0\n",
      "Current iteration: 5 - Current Prediction: 1\n",
      "Current iteration: 10 - Current Prediction: 6\n",
      "Successful\n"
     ]
    },
    {
     "data": {
      "image/png": "[encoded data removed]",
      "text/plain": [
       "<matplotlib.figure.Figure at 0x7f86182a4450>"
      ]
     },
     "metadata": {},
     "output_type": "display_data"
    },
    {
     "name": "stdout",
     "output_type": "stream",
     "text": [
      "--------------------------------------\n",
      "Creating adv. example for target class 7\n",
      "Maximum number of iterations: 39.0\n",
      "Current iteration: 5 - Current Prediction: 1\n",
      "Current iteration: 10 - Current Prediction: 1\n",
      "Successful\n"
     ]
    },
    {
     "data": {
      "image/png": "[encoded data removed]",
      "text/plain": [
       "<matplotlib.figure.Figure at 0x7f86184e99d0>"
      ]
     },
     "metadata": {},
     "output_type": "display_data"
    },
    {
     "name": "stdout",
     "output_type": "stream",
     "text": [
      "--------------------------------------\n",
      "Creating adv. example for target class 8\n",
      "Maximum number of iterations: 39.0\n",
      "Current iteration: 5 - Current Prediction: 1\n",
      "Successful\n"
     ]
    },
    {
     "data": {
      "image/png": "[encoded data removed]",
      "text/plain": [
       "<matplotlib.figure.Figure at 0x7f8618595fd0>"
      ]
     },
     "metadata": {},
     "output_type": "display_data"
    },
    {
     "name": "stdout",
     "output_type": "stream",
     "text": [
      "--------------------------------------\n",
      "Creating adv. example for target class 9\n",
      "Maximum number of iterations: 39.0\n",
      "Current iteration: 5 - Current Prediction: 1\n",
      "Current iteration: 10 - Current Prediction: 3\n",
      "Successful\n"
     ]
    },
    {
     "data": {
      "image/png": "[encoded data removed]",
      "text/plain": [
       "<matplotlib.figure.Figure at 0x7f8618516d50>"
      ]
     },
     "metadata": {},
     "output_type": "display_data"
    },
    {
     "name": "stdout",
     "output_type": "stream",
     "text": [
      "--------------------------------------\n",
      "Creating adv. example for target class 0\n",
      "Maximum number of iterations: 39.0\n",
      "Current iteration: 5 - Current Prediction: 2\n",
      "Current iteration: 10 - Current Prediction: 2\n",
      "Successful\n"
     ]
    },
    {
     "data": {
      "image/png": "[encoded data removed]",
      "text/plain": [
       "<matplotlib.figure.Figure at 0x7f8618127a10>"
      ]
     },
     "metadata": {},
     "output_type": "display_data"
    },
    {
     "name": "stdout",
     "output_type": "stream",
     "text": [
      "--------------------------------------\n",
      "Creating adv. example for target class 1\n",
      "Maximum number of iterations: 39.0\n",
      "Current iteration: 5 - Current Prediction: 2\n",
      "Current iteration: 10 - Current Prediction: 2\n",
      "Current iteration: 15 - Current Prediction: 2\n",
      "Current iteration: 20 - Current Prediction: 2\n",
      "Current iteration: 25 - Current Prediction: 2\n",
      "Current iteration: 30 - Current Prediction: 2\n",
      "Current iteration: 35 - Current Prediction: 2\n",
      "Successful\n"
     ]
    },
    {
     "data": {
      "image/png": "[encoded data removed]",
      "text/plain": [
       "<matplotlib.figure.Figure at 0x7f861809fb50>"
      ]
     },
     "metadata": {},
     "output_type": "display_data"
    },
    {
     "name": "stdout",
     "output_type": "stream",
     "text": [
      "--------------------------------------\n",
      "Creating adv. example for target class 3\n",
      "Maximum number of iterations: 39.0\n",
      "Current iteration: 5 - Current Prediction: 2\n",
      "Current iteration: 10 - Current Prediction: 2\n",
      "Current iteration: 15 - Current Prediction: 2\n",
      "Successful\n"
     ]
    },
    {
     "data": {
      "image/png": "[encoded data removed]",
      "text/plain": [
       "<matplotlib.figure.Figure at 0x7f860b7d24d0>"
      ]
     },
     "metadata": {},
     "output_type": "display_data"
    },
    {
     "name": "stdout",
     "output_type": "stream",
     "text": [
      "--------------------------------------\n",
      "Creating adv. example for target class 4\n",
      "Maximum number of iterations: 39.0\n",
      "Current iteration: 5 - Current Prediction: 2\n",
      "Current iteration: 10 - Current Prediction: 2\n",
      "Current iteration: 15 - Current Prediction: 2\n",
      "Current iteration: 20 - Current Prediction: 2\n",
      "Current iteration: 25 - Current Prediction: 2\n",
      "Current iteration: 30 - Current Prediction: 2\n",
      "Current iteration: 35 - Current Prediction: 2\n",
      "Unsuccesful\n"
     ]
    },
    {
     "data": {
      "image/png": "[encoded data removed]",
      "text/plain": [
       "<matplotlib.figure.Figure at 0x7f8618507f10>"
      ]
     },
     "metadata": {},
     "output_type": "display_data"
    },
    {
     "name": "stdout",
     "output_type": "stream",
     "text": [
      "--------------------------------------\n",
      "Creating adv. example for target class 5\n",
      "Maximum number of iterations: 39.0\n",
      "Current iteration: 5 - Current Prediction: 2\n",
      "Current iteration: 10 - Current Prediction: 2\n",
      "Current iteration: 15 - Current Prediction: 5\n",
      "Successful\n"
     ]
    },
    {
     "data": {
      "image/png": "[encoded data removed]",
      "text/plain": [
       "<matplotlib.figure.Figure at 0x7f860b6b2f90>"
      ]
     },
     "metadata": {},
     "output_type": "display_data"
    },
    {
     "name": "stdout",
     "output_type": "stream",
     "text": [
      "--------------------------------------\n",
      "Creating adv. example for target class 6\n",
      "Maximum number of iterations: 39.0\n",
      "Current iteration: 5 - Current Prediction: 2\n",
      "Current iteration: 10 - Current Prediction: 2\n",
      "Current iteration: 15 - Current Prediction: 2\n",
      "Successful\n"
     ]
    },
    {
     "data": {
      "image/png": "[encoded data removed]",
      "text/plain": [
       "<matplotlib.figure.Figure at 0x7f860b5ead10>"
      ]
     },
     "metadata": {},
     "output_type": "display_data"
    },
    {
     "name": "stdout",
     "output_type": "stream",
     "text": [
      "--------------------------------------\n",
      "Creating adv. example for target class 7\n",
      "Maximum number of iterations: 39.0\n",
      "Current iteration: 5 - Current Prediction: 2\n",
      "Current iteration: 10 - Current Prediction: 2\n",
      "Current iteration: 15 - Current Prediction: 2\n",
      "Current iteration: 20 - Current Prediction: 2\n",
      "Current iteration: 25 - Current Prediction: 2\n",
      "Current iteration: 30 - Current Prediction: 2\n",
      "Current iteration: 35 - Current Prediction: 2\n",
      "Unsuccesful\n"
     ]
    },
    {
     "data": {
      "image/png": "[encoded data removed]",
      "text/plain": [
       "<matplotlib.figure.Figure at 0x7f860b51ced0>"
      ]
     },
     "metadata": {},
     "output_type": "display_data"
    },
    {
     "name": "stdout",
     "output_type": "stream",
     "text": [
      "--------------------------------------\n",
      "Creating adv. example for target class 8\n",
      "Maximum number of iterations: 39.0\n",
      "Current iteration: 5 - Current Prediction: 2\n",
      "Current iteration: 10 - Current Prediction: 2\n",
      "Current iteration: 15 - Current Prediction: 2\n",
      "Successful\n"
     ]
    },
    {
     "data": {
      "image/png": "[encoded data removed]",
      "text/plain": [
       "<matplotlib.figure.Figure at 0x7f860b453c10>"
      ]
     },
     "metadata": {},
     "output_type": "display_data"
    },
    {
     "name": "stdout",
     "output_type": "stream",
     "text": [
      "--------------------------------------\n",
      "Creating adv. example for target class 9\n",
      "Maximum number of iterations: 39.0\n",
      "Current iteration: 5 - Current Prediction: 2\n",
      "Current iteration: 10 - Current Prediction: 2\n",
      "Current iteration: 15 - Current Prediction: 2\n",
      "Current iteration: 20 - Current Prediction: 2\n",
      "Current iteration: 25 - Current Prediction: 2\n",
      "Current iteration: 30 - Current Prediction: 2\n",
      "Current iteration: 35 - Current Prediction: 2\n",
      "Successful\n"
     ]
    },
    {
     "data": {
      "image/png": "[encoded data removed]",
      "text/plain": [
       "<matplotlib.figure.Figure at 0x7f860b387510>"
      ]
     },
     "metadata": {},
     "output_type": "display_data"
    },
    {
     "name": "stdout",
     "output_type": "stream",
     "text": [
      "--------------------------------------\n",
      "Creating adv. example for target class 0\n",
      "Maximum number of iterations: 39.0\n",
      "Current iteration: 5 - Current Prediction: 3\n",
      "Current iteration: 10 - Current Prediction: 3\n",
      "Current iteration: 15 - Current Prediction: 3\n",
      "Current iteration: 20 - Current Prediction: 8\n",
      "Current iteration: 25 - Current Prediction: 8\n",
      "Successful\n"
     ]
    },
    {
     "data": {
      "image/png": "[encoded data removed]",
      "text/plain": [
       "<matplotlib.figure.Figure at 0x7f860b5d3f50>"
      ]
     },
     "metadata": {},
     "output_type": "display_data"
    },
    {
     "name": "stdout",
     "output_type": "stream",
     "text": [
      "--------------------------------------\n",
      "Creating adv. example for target class 1\n",
      "Maximum number of iterations: 39.0\n",
      "Current iteration: 5 - Current Prediction: 3\n",
      "Current iteration: 10 - Current Prediction: 3\n",
      "Current iteration: 15 - Current Prediction: 3\n",
      "Current iteration: 20 - Current Prediction: 3\n",
      "Current iteration: 25 - Current Prediction: 3\n",
      "Current iteration: 30 - Current Prediction: 3\n",
      "Current iteration: 35 - Current Prediction: 3\n",
      "Successful\n"
     ]
    },
    {
     "data": {
      "image/png": "[encoded data removed]",
      "text/plain": [
       "<matplotlib.figure.Figure at 0x7f860b267d50>"
      ]
     },
     "metadata": {},
     "output_type": "display_data"
    },
    {
     "name": "stdout",
     "output_type": "stream",
     "text": [
      "--------------------------------------\n",
      "Creating adv. example for target class 2\n",
      "Maximum number of iterations: 39.0\n",
      "Current iteration: 5 - Current Prediction: 3\n",
      "Current iteration: 10 - Current Prediction: 8\n",
      "Current iteration: 15 - Current Prediction: 8\n",
      "Current iteration: 20 - Current Prediction: 8\n",
      "Current iteration: 25 - Current Prediction: 8\n",
      "Current iteration: 30 - Current Prediction: 8\n",
      "Successful\n"
     ]
    },
    {
     "data": {
      "image/png": "[encoded data removed]",
      "text/plain": [
       "<matplotlib.figure.Figure at 0x7f860b33ca10>"
      ]
     },
     "metadata": {},
     "output_type": "display_data"
    },
    {
     "name": "stdout",
     "output_type": "stream",
     "text": [
      "--------------------------------------\n",
      "Creating adv. example for target class 4\n",
      "Maximum number of iterations: 39.0\n",
      "Current iteration: 5 - Current Prediction: 3\n",
      "Current iteration: 10 - Current Prediction: 3\n",
      "Current iteration: 15 - Current Prediction: 3\n",
      "Current iteration: 20 - Current Prediction: 3\n",
      "Current iteration: 25 - Current Prediction: 3\n",
      "Successful\n"
     ]
    },
    {
     "data": {
      "image/png": "[encoded data removed]",
      "text/plain": [
       "<matplotlib.figure.Figure at 0x7f860b453e10>"
      ]
     },
     "metadata": {},
     "output_type": "display_data"
    },
    {
     "name": "stdout",
     "output_type": "stream",
     "text": [
      "--------------------------------------\n",
      "Creating adv. example for target class 5\n",
      "Maximum number of iterations: 39.0\n",
      "Current iteration: 5 - Current Prediction: 3\n",
      "Current iteration: 10 - Current Prediction: 3\n",
      "Successful\n"
     ]
    },
    {
     "data": {
      "image/png": "[encoded data removed]",
      "text/plain": [
       "<matplotlib.figure.Figure at 0x7f860b5c0cd0>"
      ]
     },
     "metadata": {},
     "output_type": "display_data"
    },
    {
     "name": "stdout",
     "output_type": "stream",
     "text": [
      "--------------------------------------\n",
      "Creating adv. example for target class 6\n",
      "Maximum number of iterations: 39.0\n",
      "Current iteration: 5 - Current Prediction: 3\n",
      "Current iteration: 10 - Current Prediction: 8\n",
      "Current iteration: 15 - Current Prediction: 6\n",
      "Successful\n"
     ]
    },
    {
     "data": {
      "image/png": "[encoded data removed]",
      "text/plain": [
       "<matplotlib.figure.Figure at 0x7f860b494a90>"
      ]
     },
     "metadata": {},
     "output_type": "display_data"
    },
    {
     "name": "stdout",
     "output_type": "stream",
     "text": [
      "--------------------------------------\n",
      "Creating adv. example for target class 7\n",
      "Maximum number of iterations: 39.0\n",
      "Current iteration: 5 - Current Prediction: 3\n",
      "Current iteration: 10 - Current Prediction: 3\n",
      "Current iteration: 15 - Current Prediction: 3\n",
      "Current iteration: 20 - Current Prediction: 3\n",
      "Current iteration: 25 - Current Prediction: 8\n",
      "Current iteration: 30 - Current Prediction: 3\n",
      "Current iteration: 35 - Current Prediction: 8\n",
      "Unsuccesful\n"
     ]
    },
    {
     "data": {
      "image/png": "[encoded data removed]",
      "text/plain": [
       "<matplotlib.figure.Figure at 0x7f860b35a810>"
      ]
     },
     "metadata": {},
     "output_type": "display_data"
    },
    {
     "name": "stdout",
     "output_type": "stream",
     "text": [
      "--------------------------------------\n",
      "Creating adv. example for target class 8\n",
      "Maximum number of iterations: 39.0\n",
      "Current iteration: 5 - Current Prediction: 3\n",
      "Successful\n"
     ]
    },
    {
     "data": {
      "image/png": "[encoded data removed]",
      "text/plain": [
       "<matplotlib.figure.Figure at 0x7f860b55de50>"
      ]
     },
     "metadata": {},
     "output_type": "display_data"
    },
    {
     "name": "stdout",
     "output_type": "stream",
     "text": [
      "--------------------------------------\n",
      "Creating adv. example for target class 9\n",
      "Maximum number of iterations: 39.0\n",
      "Current iteration: 5 - Current Prediction: 3\n",
      "Current iteration: 10 - Current Prediction: 3\n",
      "Current iteration: 15 - Current Prediction: 3\n",
      "Current iteration: 20 - Current Prediction: 3\n",
      "Current iteration: 25 - Current Prediction: 9\n",
      "Successful\n"
     ]
    },
    {
     "data": {
      "image/png": "[encoded data removed]",
      "text/plain": [
       "<matplotlib.figure.Figure at 0x7f860b568110>"
      ]
     },
     "metadata": {},
     "output_type": "display_data"
    },
    {
     "name": "stdout",
     "output_type": "stream",
     "text": [
      "--------------------------------------\n",
      "Creating adv. example for target class 0\n",
      "Maximum number of iterations: 39.0\n",
      "Current iteration: 5 - Current Prediction: 4\n",
      "Current iteration: 10 - Current Prediction: 4\n",
      "Successful\n"
     ]
    },
    {
     "data": {
      "image/png": "[encoded data removed]",
      "text/plain": [
       "<matplotlib.figure.Figure at 0x7f860b76bc50>"
      ]
     },
     "metadata": {},
     "output_type": "display_data"
    },
    {
     "name": "stdout",
     "output_type": "stream",
     "text": [
      "--------------------------------------\n",
      "Creating adv. example for target class 1\n",
      "Maximum number of iterations: 39.0\n",
      "Current iteration: 5 - Current Prediction: 4\n",
      "Current iteration: 10 - Current Prediction: 4\n",
      "Current iteration: 15 - Current Prediction: 4\n",
      "Current iteration: 20 - Current Prediction: 4\n",
      "Successful\n"
     ]
    },
    {
     "data": {
      "image/png": "[encoded data removed]",
      "text/plain": [
       "<matplotlib.figure.Figure at 0x7f860b79bdd0>"
      ]
     },
     "metadata": {},
     "output_type": "display_data"
    },
    {
     "name": "stdout",
     "output_type": "stream",
     "text": [
      "--------------------------------------\n",
      "Creating adv. example for target class 2\n",
      "Maximum number of iterations: 39.0\n",
      "Current iteration: 5 - Current Prediction: 4\n",
      "Current iteration: 10 - Current Prediction: 4\n",
      "Current iteration: 15 - Current Prediction: 2\n",
      "Successful\n"
     ]
    },
    {
     "data": {
      "image/png": "[encoded data removed]",
      "text/plain": [
       "<matplotlib.figure.Figure at 0x7f860b60eb50>"
      ]
     },
     "metadata": {},
     "output_type": "display_data"
    },
    {
     "name": "stdout",
     "output_type": "stream",
     "text": [
      "--------------------------------------\n",
      "Creating adv. example for target class 3\n",
      "Maximum number of iterations: 39.0\n",
      "Current iteration: 5 - Current Prediction: 4\n",
      "Current iteration: 10 - Current Prediction: 9\n",
      "Current iteration: 15 - Current Prediction: 3\n",
      "Successful\n"
     ]
    },
    {
     "data": {
      "image/png": "[encoded data removed]",
      "text/plain": [
       "<matplotlib.figure.Figure at 0x7f861829d8d0>"
      ]
     },
     "metadata": {},
     "output_type": "display_data"
    },
    {
     "name": "stdout",
     "output_type": "stream",
     "text": [
      "--------------------------------------\n",
      "Creating adv. example for target class 5\n",
      "Maximum number of iterations: 39.0\n",
      "Current iteration: 5 - Current Prediction: 4\n",
      "Current iteration: 10 - Current Prediction: 4\n",
      "Current iteration: 15 - Current Prediction: 4\n",
      "Successful\n"
     ]
    },
    {
     "data": {
      "image/png": "[encoded data removed]",
      "text/plain": [
       "<matplotlib.figure.Figure at 0x7f8618201250>"
      ]
     },
     "metadata": {},
     "output_type": "display_data"
    },
    {
     "name": "stdout",
     "output_type": "stream",
     "text": [
      "--------------------------------------\n",
      "Creating adv. example for target class 6\n",
      "Maximum number of iterations: 39.0\n",
      "Current iteration: 5 - Current Prediction: 4\n",
      "Successful\n"
     ]
    },
    {
     "data": {
      "image/png": "[encoded data removed]",
      "text/plain": [
       "<matplotlib.figure.Figure at 0x7f8618130e10>"
      ]
     },
     "metadata": {},
     "output_type": "display_data"
    },
    {
     "name": "stdout",
     "output_type": "stream",
     "text": [
      "--------------------------------------\n",
      "Creating adv. example for target class 7\n",
      "Maximum number of iterations: 39.0\n",
      "Current iteration: 5 - Current Prediction: 4\n",
      "Current iteration: 10 - Current Prediction: 7\n",
      "Successful\n"
     ]
    },
    {
     "data": {
      "image/png": "[encoded data removed]",
      "text/plain": [
       "<matplotlib.figure.Figure at 0x7f86180b1d10>"
      ]
     },
     "metadata": {},
     "output_type": "display_data"
    },
    {
     "name": "stdout",
     "output_type": "stream",
     "text": [
      "--------------------------------------\n",
      "Creating adv. example for target class 8\n",
      "Maximum number of iterations: 39.0\n",
      "Current iteration: 5 - Current Prediction: 4\n",
      "Current iteration: 10 - Current Prediction: 4\n",
      "Successful\n"
     ]
    },
    {
     "data": {
      "image/png": "[encoded data removed]",
      "text/plain": [
       "<matplotlib.figure.Figure at 0x7f861844aed0>"
      ]
     },
     "metadata": {},
     "output_type": "display_data"
    },
    {
     "name": "stdout",
     "output_type": "stream",
     "text": [
      "--------------------------------------\n",
      "Creating adv. example for target class 9\n",
      "Maximum number of iterations: 39.0\n",
      "Successful\n"
     ]
    },
    {
     "data": {
      "image/png": "[encoded data removed]",
      "text/plain": [
       "<matplotlib.figure.Figure at 0x7f86186fb790>"
      ]
     },
     "metadata": {},
     "output_type": "display_data"
    },
    {
     "name": "stdout",
     "output_type": "stream",
     "text": [
      "--------------------------------------\n",
      "Creating adv. example for target class 0\n",
      "Maximum number of iterations: 39.0\n",
      "Current iteration: 5 - Current Prediction: 5\n",
      "Current iteration: 10 - Current Prediction: 5\n",
      "Current iteration: 15 - Current Prediction: 5\n",
      "Successful\n"
     ]
    },
    {
     "data": {
      "image/png": "[encoded data removed]",
      "text/plain": [
       "<matplotlib.figure.Figure at 0x7f861807f5d0>"
      ]
     },
     "metadata": {},
     "output_type": "display_data"
    },
    {
     "name": "stdout",
     "output_type": "stream",
     "text": [
      "--------------------------------------\n",
      "Creating adv. example for target class 1\n",
      "Maximum number of iterations: 39.0\n",
      "Current iteration: 5 - Current Prediction: 5\n",
      "Current iteration: 10 - Current Prediction: 5\n",
      "Current iteration: 15 - Current Prediction: 5\n",
      "Current iteration: 20 - Current Prediction: 6\n",
      "Current iteration: 25 - Current Prediction: 8\n",
      "Current iteration: 30 - Current Prediction: 8\n",
      "Current iteration: 35 - Current Prediction: 8\n",
      "Unsuccesful\n"
     ]
    },
    {
     "data": {
      "image/png": "[encoded data removed]",
      "text/plain": [
       "<matplotlib.figure.Figure at 0x7f8618088f50>"
      ]
     },
     "metadata": {},
     "output_type": "display_data"
    },
    {
     "name": "stdout",
     "output_type": "stream",
     "text": [
      "--------------------------------------\n",
      "Creating adv. example for target class 2\n",
      "Maximum number of iterations: 39.0\n",
      "Current iteration: 5 - Current Prediction: 5\n",
      "Current iteration: 10 - Current Prediction: 5\n",
      "Successful\n"
     ]
    },
    {
     "data": {
      "image/png": "[encoded data removed]",
      "text/plain": [
       "<matplotlib.figure.Figure at 0x7f86185a8ed0>"
      ]
     },
     "metadata": {},
     "output_type": "display_data"
    },
    {
     "name": "stdout",
     "output_type": "stream",
     "text": [
      "--------------------------------------\n",
      "Creating adv. example for target class 3\n",
      "Maximum number of iterations: 39.0\n",
      "Current iteration: 5 - Current Prediction: 5\n",
      "Current iteration: 10 - Current Prediction: 5\n",
      "Current iteration: 15 - Current Prediction: 5\n",
      "Current iteration: 20 - Current Prediction: 8\n",
      "Current iteration: 25 - Current Prediction: 8\n",
      "Current iteration: 30 - Current Prediction: 8\n",
      "Current iteration: 35 - Current Prediction: 8\n",
      "Unsuccesful\n"
     ]
    },
    {
     "data": {
      "image/png": "[encoded data removed]",
      "text/plain": [
       "<matplotlib.figure.Figure at 0x7f8618541410>"
      ]
     },
     "metadata": {},
     "output_type": "display_data"
    },
    {
     "name": "stdout",
     "output_type": "stream",
     "text": [
      "--------------------------------------\n",
      "Creating adv. example for target class 4\n",
      "Maximum number of iterations: 39.0\n",
      "Current iteration: 5 - Current Prediction: 5\n",
      "Current iteration: 10 - Current Prediction: 5\n",
      "Current iteration: 15 - Current Prediction: 5\n",
      "Successful\n"
     ]
    },
    {
     "data": {
      "image/png": "[encoded data removed]",
      "text/plain": [
       "<matplotlib.figure.Figure at 0x7f861866be10>"
      ]
     },
     "metadata": {},
     "output_type": "display_data"
    },
    {
     "name": "stdout",
     "output_type": "stream",
     "text": [
      "--------------------------------------\n",
      "Creating adv. example for target class 6\n",
      "Maximum number of iterations: 39.0\n",
      "Current iteration: 5 - Current Prediction: 5\n",
      "Current iteration: 10 - Current Prediction: 5\n",
      "Successful\n"
     ]
    },
    {
     "data": {
      "image/png": "[encoded data removed]",
      "text/plain": [
       "<matplotlib.figure.Figure at 0x7f860b7e60d0>"
      ]
     },
     "metadata": {},
     "output_type": "display_data"
    },
    {
     "name": "stdout",
     "output_type": "stream",
     "text": [
      "--------------------------------------\n",
      "Creating adv. example for target class 7\n",
      "Maximum number of iterations: 39.0\n",
      "Current iteration: 5 - Current Prediction: 5\n",
      "Current iteration: 10 - Current Prediction: 5\n",
      "Current iteration: 15 - Current Prediction: 5\n",
      "Successful\n"
     ]
    },
    {
     "data": {
      "image/png": "[encoded data removed]",
      "text/plain": [
       "<matplotlib.figure.Figure at 0x7f860b269a90>"
      ]
     },
     "metadata": {},
     "output_type": "display_data"
    },
    {
     "name": "stdout",
     "output_type": "stream",
     "text": [
      "--------------------------------------\n",
      "Creating adv. example for target class 8\n",
      "Maximum number of iterations: 39.0\n",
      "Current iteration: 5 - Current Prediction: 5\n",
      "Successful\n"
     ]
    },
    {
     "data": {
      "image/png": "[encoded data removed]",
      "text/plain": [
       "<matplotlib.figure.Figure at 0x7f8618576910>"
      ]
     },
     "metadata": {},
     "output_type": "display_data"
    },
    {
     "name": "stdout",
     "output_type": "stream",
     "text": [
      "--------------------------------------\n",
      "Creating adv. example for target class 9\n",
      "Maximum number of iterations: 39.0\n",
      "Current iteration: 5 - Current Prediction: 5\n",
      "Successful\n"
     ]
    },
    {
     "data": {
      "image/png": "[encoded data removed]",
      "text/plain": [
       "<matplotlib.figure.Figure at 0x7f86180b3e90>"
      ]
     },
     "metadata": {},
     "output_type": "display_data"
    },
    {
     "name": "stdout",
     "output_type": "stream",
     "text": [
      "--------------------------------------\n",
      "Creating adv. example for target class 0\n",
      "Maximum number of iterations: 39.0\n",
      "Current iteration: 5 - Current Prediction: 6\n",
      "Current iteration: 10 - Current Prediction: 0\n",
      "Successful\n"
     ]
    },
    {
     "data": {
      "image/png": "[encoded data removed]",
      "text/plain": [
       "<matplotlib.figure.Figure at 0x7f860b2b2ed0>"
      ]
     },
     "metadata": {},
     "output_type": "display_data"
    },
    {
     "name": "stdout",
     "output_type": "stream",
     "text": [
      "--------------------------------------\n",
      "Creating adv. example for target class 1\n",
      "Maximum number of iterations: 39.0\n",
      "Current iteration: 5 - Current Prediction: 6\n",
      "Current iteration: 10 - Current Prediction: 6\n",
      "Current iteration: 15 - Current Prediction: 6\n",
      "Current iteration: 20 - Current Prediction: 6\n",
      "Current iteration: 25 - Current Prediction: 1\n",
      "Successful\n"
     ]
    },
    {
     "data": {
      "image/png": "[encoded data removed]",
      "text/plain": [
       "<matplotlib.figure.Figure at 0x7f8618240ad0>"
      ]
     },
     "metadata": {},
     "output_type": "display_data"
    },
    {
     "name": "stdout",
     "output_type": "stream",
     "text": [
      "--------------------------------------\n",
      "Creating adv. example for target class 2\n",
      "Maximum number of iterations: 39.0\n",
      "Current iteration: 5 - Current Prediction: 6\n",
      "Current iteration: 10 - Current Prediction: 6\n",
      "Successful\n"
     ]
    },
    {
     "data": {
      "image/png": "[encoded data removed]",
      "text/plain": [
       "<matplotlib.figure.Figure at 0x7f860b6ee9d0>"
      ]
     },
     "metadata": {},
     "output_type": "display_data"
    },
    {
     "name": "stdout",
     "output_type": "stream",
     "text": [
      "--------------------------------------\n",
      "Creating adv. example for target class 3\n",
      "Maximum number of iterations: 39.0\n",
      "Current iteration: 5 - Current Prediction: 6\n",
      "Current iteration: 10 - Current Prediction: 6\n",
      "Current iteration: 15 - Current Prediction: 6\n",
      "Current iteration: 20 - Current Prediction: 3\n",
      "Successful\n"
     ]
    },
    {
     "data": {
      "image/png": "[encoded data removed]",
      "text/plain": [
       "<matplotlib.figure.Figure at 0x7f861828a6d0>"
      ]
     },
     "metadata": {},
     "output_type": "display_data"
    },
    {
     "name": "stdout",
     "output_type": "stream",
     "text": [
      "--------------------------------------\n",
      "Creating adv. example for target class 4\n",
      "Maximum number of iterations: 39.0\n",
      "Current iteration: 5 - Current Prediction: 6\n",
      "Current iteration: 10 - Current Prediction: 6\n",
      "Current iteration: 15 - Current Prediction: 6\n",
      "Current iteration: 20 - Current Prediction: 6\n",
      "Successful\n"
     ]
    },
    {
     "data": {
      "image/png": "[encoded data removed]",
      "text/plain": [
       "<matplotlib.figure.Figure at 0x7f86181384d0>"
      ]
     },
     "metadata": {},
     "output_type": "display_data"
    },
    {
     "name": "stdout",
     "output_type": "stream",
     "text": [
      "--------------------------------------\n",
      "Creating adv. example for target class 5\n",
      "Maximum number of iterations: 39.0\n",
      "Current iteration: 5 - Current Prediction: 6\n",
      "Current iteration: 10 - Current Prediction: 6\n",
      "Current iteration: 15 - Current Prediction: 6\n",
      "Current iteration: 20 - Current Prediction: 6\n",
      "Successful\n"
     ]
    },
    {
     "data": {
      "image/png": "[encoded data removed]",
      "text/plain": [
       "<matplotlib.figure.Figure at 0x7f860b529650>"
      ]
     },
     "metadata": {},
     "output_type": "display_data"
    },
    {
     "name": "stdout",
     "output_type": "stream",
     "text": [
      "--------------------------------------\n",
      "Creating adv. example for target class 7\n",
      "Maximum number of iterations: 39.0\n",
      "Current iteration: 5 - Current Prediction: 6\n",
      "Current iteration: 10 - Current Prediction: 6\n",
      "Current iteration: 15 - Current Prediction: 6\n",
      "Current iteration: 20 - Current Prediction: 6\n",
      "Current iteration: 25 - Current Prediction: 6\n",
      "Current iteration: 30 - Current Prediction: 7\n",
      "Successful\n"
     ]
    },
    {
     "data": {
      "image/png": "[encoded data removed]",
      "text/plain": [
       "<matplotlib.figure.Figure at 0x7f860b71ef90>"
      ]
     },
     "metadata": {},
     "output_type": "display_data"
    },
    {
     "name": "stdout",
     "output_type": "stream",
     "text": [
      "--------------------------------------\n",
      "Creating adv. example for target class 8\n",
      "Maximum number of iterations: 39.0\n",
      "Current iteration: 5 - Current Prediction: 6\n",
      "Current iteration: 10 - Current Prediction: 6\n",
      "Successful\n"
     ]
    },
    {
     "data": {
      "image/png": "[encoded data removed]",
      "text/plain": [
       "<matplotlib.figure.Figure at 0x7f860b7a4d50>"
      ]
     },
     "metadata": {},
     "output_type": "display_data"
    },
    {
     "name": "stdout",
     "output_type": "stream",
     "text": [
      "--------------------------------------\n",
      "Creating adv. example for target class 9\n",
      "Maximum number of iterations: 39.0\n",
      "Current iteration: 5 - Current Prediction: 6\n",
      "Current iteration: 10 - Current Prediction: 8\n",
      "Current iteration: 15 - Current Prediction: 8\n",
      "Current iteration: 20 - Current Prediction: 8\n",
      "Successful\n"
     ]
    },
    {
     "data": {
      "image/png": "[encoded data removed]",
      "text/plain": [
       "<matplotlib.figure.Figure at 0x7f8618194350>"
      ]
     },
     "metadata": {},
     "output_type": "display_data"
    },
    {
     "name": "stdout",
     "output_type": "stream",
     "text": [
      "--------------------------------------\n",
      "Creating adv. example for target class 0\n",
      "Maximum number of iterations: 39.0\n",
      "Current iteration: 5 - Current Prediction: 7\n",
      "Current iteration: 10 - Current Prediction: 7\n",
      "Current iteration: 15 - Current Prediction: 0\n",
      "Successful\n"
     ]
    },
    {
     "data": {
      "image/png": "[encoded data removed]",
      "text/plain": [
       "<matplotlib.figure.Figure at 0x7f861800f510>"
      ]
     },
     "metadata": {},
     "output_type": "display_data"
    },
    {
     "name": "stdout",
     "output_type": "stream",
     "text": [
      "--------------------------------------\n",
      "Creating adv. example for target class 1\n",
      "Maximum number of iterations: 39.0\n",
      "Current iteration: 5 - Current Prediction: 7\n",
      "Current iteration: 10 - Current Prediction: 7\n",
      "Current iteration: 15 - Current Prediction: 7\n",
      "Current iteration: 20 - Current Prediction: 7\n",
      "Current iteration: 25 - Current Prediction: 7\n",
      "Current iteration: 30 - Current Prediction: 7\n",
      "Current iteration: 35 - Current Prediction: 7\n",
      "Successful\n"
     ]
    },
    {
     "data": {
      "image/png": "[encoded data removed]",
      "text/plain": [
       "<matplotlib.figure.Figure at 0x7f86184ae510>"
      ]
     },
     "metadata": {},
     "output_type": "display_data"
    },
    {
     "name": "stdout",
     "output_type": "stream",
     "text": [
      "--------------------------------------\n",
      "Creating adv. example for target class 2\n",
      "Maximum number of iterations: 39.0\n",
      "Current iteration: 5 - Current Prediction: 7\n",
      "Current iteration: 10 - Current Prediction: 7\n",
      "Current iteration: 15 - Current Prediction: 7\n",
      "Successful\n"
     ]
    },
    {
     "data": {
      "image/png": "[encoded data removed]",
      "text/plain": [
       "<matplotlib.figure.Figure at 0x7f86181daf50>"
      ]
     },
     "metadata": {},
     "output_type": "display_data"
    },
    {
     "name": "stdout",
     "output_type": "stream",
     "text": [
      "--------------------------------------\n",
      "Creating adv. example for target class 3\n",
      "Maximum number of iterations: 39.0\n",
      "Current iteration: 5 - Current Prediction: 7\n",
      "Successful\n"
     ]
    },
    {
     "data": {
      "image/png": "[encoded data removed]",
      "text/plain": [
       "<matplotlib.figure.Figure at 0x7f860b492ed0>"
      ]
     },
     "metadata": {},
     "output_type": "display_data"
    },
    {
     "name": "stdout",
     "output_type": "stream",
     "text": [
      "--------------------------------------\n",
      "Creating adv. example for target class 4\n",
      "Maximum number of iterations: 39.0\n",
      "Current iteration: 5 - Current Prediction: 7\n",
      "Current iteration: 10 - Current Prediction: 7\n",
      "Current iteration: 15 - Current Prediction: 7\n",
      "Current iteration: 20 - Current Prediction: 7\n",
      "Current iteration: 25 - Current Prediction: 7\n",
      "Successful\n"
     ]
    },
    {
     "data": {
      "image/png": "[encoded data removed]",
      "text/plain": [
       "<matplotlib.figure.Figure at 0x7f860b429ad0>"
      ]
     },
     "metadata": {},
     "output_type": "display_data"
    },
    {
     "name": "stdout",
     "output_type": "stream",
     "text": [
      "--------------------------------------\n",
      "Creating adv. example for target class 5\n",
      "Maximum number of iterations: 39.0\n",
      "Current iteration: 5 - Current Prediction: 7\n",
      "Current iteration: 10 - Current Prediction: 7\n",
      "Successful\n"
     ]
    },
    {
     "data": {
      "image/png": "[encoded data removed]",
      "text/plain": [
       "<matplotlib.figure.Figure at 0x7f861800fe10>"
      ]
     },
     "metadata": {},
     "output_type": "display_data"
    },
    {
     "name": "stdout",
     "output_type": "stream",
     "text": [
      "--------------------------------------\n",
      "Creating adv. example for target class 6\n",
      "Maximum number of iterations: 39.0\n",
      "Current iteration: 5 - Current Prediction: 7\n",
      "Current iteration: 10 - Current Prediction: 7\n",
      "Current iteration: 15 - Current Prediction: 7\n",
      "Successful\n"
     ]
    },
    {
     "data": {
      "image/png": "[encoded data removed]",
      "text/plain": [
       "<matplotlib.figure.Figure at 0x7f86181f5a10>"
      ]
     },
     "metadata": {},
     "output_type": "display_data"
    },
    {
     "name": "stdout",
     "output_type": "stream",
     "text": [
      "--------------------------------------\n",
      "Creating adv. example for target class 8\n",
      "Maximum number of iterations: 39.0\n",
      "Current iteration: 5 - Current Prediction: 7\n",
      "Current iteration: 10 - Current Prediction: 7\n",
      "Successful\n"
     ]
    },
    {
     "data": {
      "image/png": "[encoded data removed]",
      "text/plain": [
       "<matplotlib.figure.Figure at 0x7f860b546a90>"
      ]
     },
     "metadata": {},
     "output_type": "display_data"
    },
    {
     "name": "stdout",
     "output_type": "stream",
     "text": [
      "--------------------------------------\n",
      "Creating adv. example for target class 9\n",
      "Maximum number of iterations: 39.0\n",
      "Current iteration: 5 - Current Prediction: 7\n",
      "Current iteration: 10 - Current Prediction: 9\n",
      "Successful\n"
     ]
    },
    {
     "data": {
      "image/png": "[encoded data removed]",
      "text/plain": [
       "<matplotlib.figure.Figure at 0x7f86184e0810>"
      ]
     },
     "metadata": {},
     "output_type": "display_data"
    },
    {
     "name": "stdout",
     "output_type": "stream",
     "text": [
      "--------------------------------------\n",
      "Creating adv. example for target class 0\n",
      "Maximum number of iterations: 39.0\n",
      "Current iteration: 5 - Current Prediction: 8\n",
      "Current iteration: 10 - Current Prediction: 8\n",
      "Successful\n"
     ]
    },
    {
     "data": {
      "image/png": "[encoded data removed]",
      "text/plain": [
       "<matplotlib.figure.Figure at 0x7f860b3b4e90>"
      ]
     },
     "metadata": {},
     "output_type": "display_data"
    },
    {
     "name": "stdout",
     "output_type": "stream",
     "text": [
      "--------------------------------------\n",
      "Creating adv. example for target class 1\n",
      "Maximum number of iterations: 39.0\n",
      "Current iteration: 5 - Current Prediction: 8\n",
      "Current iteration: 10 - Current Prediction: 8\n",
      "Current iteration: 15 - Current Prediction: 8\n",
      "Current iteration: 20 - Current Prediction: 8\n",
      "Current iteration: 25 - Current Prediction: 8\n",
      "Current iteration: 30 - Current Prediction: 2\n",
      "Current iteration: 35 - Current Prediction: 2\n",
      "Successful\n"
     ]
    },
    {
     "data": {
      "image/png": "[encoded data removed]",
      "text/plain": [
       "<matplotlib.figure.Figure at 0x7f860b654ed0>"
      ]
     },
     "metadata": {},
     "output_type": "display_data"
    },
    {
     "name": "stdout",
     "output_type": "stream",
     "text": [
      "--------------------------------------\n",
      "Creating adv. example for target class 2\n",
      "Maximum number of iterations: 39.0\n",
      "Current iteration: 5 - Current Prediction: 8\n",
      "Current iteration: 10 - Current Prediction: 8\n",
      "Current iteration: 15 - Current Prediction: 2\n",
      "Successful\n"
     ]
    },
    {
     "data": {
      "image/png": "[encoded data removed]",
      "text/plain": [
       "<matplotlib.figure.Figure at 0x7f861873dc50>"
      ]
     },
     "metadata": {},
     "output_type": "display_data"
    },
    {
     "name": "stdout",
     "output_type": "stream",
     "text": [
      "--------------------------------------\n",
      "Creating adv. example for target class 3\n",
      "Maximum number of iterations: 39.0\n",
      "Current iteration: 5 - Current Prediction: 8\n",
      "Current iteration: 10 - Current Prediction: 8\n",
      "Current iteration: 15 - Current Prediction: 8\n",
      "Current iteration: 20 - Current Prediction: 8\n",
      "Current iteration: 25 - Current Prediction: 3\n",
      "Successful\n"
     ]
    },
    {
     "data": {
      "image/png": "[encoded data removed]",
      "text/plain": [
       "<matplotlib.figure.Figure at 0x7f8618227dd0>"
      ]
     },
     "metadata": {},
     "output_type": "display_data"
    },
    {
     "name": "stdout",
     "output_type": "stream",
     "text": [
      "--------------------------------------\n",
      "Creating adv. example for target class 4\n",
      "Maximum number of iterations: 39.0\n",
      "Current iteration: 5 - Current Prediction: 8\n",
      "Current iteration: 10 - Current Prediction: 8\n",
      "Current iteration: 15 - Current Prediction: 8\n",
      "Current iteration: 20 - Current Prediction: 8\n",
      "Current iteration: 25 - Current Prediction: 8\n",
      "Current iteration: 30 - Current Prediction: 8\n",
      "Current iteration: 35 - Current Prediction: 8\n",
      "Unsuccesful\n"
     ]
    },
    {
     "data": {
      "image/png": "[encoded data removed]",
      "text/plain": [
       "<matplotlib.figure.Figure at 0x7f861843db50>"
      ]
     },
     "metadata": {},
     "output_type": "display_data"
    },
    {
     "name": "stdout",
     "output_type": "stream",
     "text": [
      "--------------------------------------\n",
      "Creating adv. example for target class 5\n",
      "Maximum number of iterations: 39.0\n",
      "Current iteration: 5 - Current Prediction: 8\n",
      "Current iteration: 10 - Current Prediction: 8\n",
      "Current iteration: 15 - Current Prediction: 8\n",
      "Current iteration: 20 - Current Prediction: 8\n",
      "Successful\n"
     ]
    },
    {
     "data": {
      "image/png": "[encoded data removed]",
      "text/plain": [
       "<matplotlib.figure.Figure at 0x7f860b6c48d0>"
      ]
     },
     "metadata": {},
     "output_type": "display_data"
    },
    {
     "name": "stdout",
     "output_type": "stream",
     "text": [
      "--------------------------------------\n",
      "Creating adv. example for target class 6\n",
      "Maximum number of iterations: 39.0\n",
      "Current iteration: 5 - Current Prediction: 8\n",
      "Current iteration: 10 - Current Prediction: 8\n",
      "Current iteration: 15 - Current Prediction: 8\n",
      "Current iteration: 20 - Current Prediction: 8\n",
      "Current iteration: 25 - Current Prediction: 8\n",
      "Current iteration: 30 - Current Prediction: 8\n",
      "Successful\n"
     ]
    },
    {
     "data": {
      "image/png": "[encoded data removed]",
      "text/plain": [
       "<matplotlib.figure.Figure at 0x7f8618291650>"
      ]
     },
     "metadata": {},
     "output_type": "display_data"
    },
    {
     "name": "stdout",
     "output_type": "stream",
     "text": [
      "--------------------------------------\n",
      "Creating adv. example for target class 7\n",
      "Maximum number of iterations: 39.0\n",
      "Current iteration: 5 - Current Prediction: 8\n",
      "Current iteration: 10 - Current Prediction: 8\n",
      "Current iteration: 15 - Current Prediction: 8\n",
      "Current iteration: 20 - Current Prediction: 8\n",
      "Successful\n"
     ]
    },
    {
     "data": {
      "image/png": "[encoded data removed]",
      "text/plain": [
       "<matplotlib.figure.Figure at 0x7f860b35bfd0>"
      ]
     },
     "metadata": {},
     "output_type": "display_data"
    },
    {
     "name": "stdout",
     "output_type": "stream",
     "text": [
      "--------------------------------------\n",
      "Creating adv. example for target class 9\n",
      "Maximum number of iterations: 39.0\n",
      "Current iteration: 5 - Current Prediction: 8\n",
      "Current iteration: 10 - Current Prediction: 8\n",
      "Current iteration: 15 - Current Prediction: 8\n",
      "Current iteration: 20 - Current Prediction: 8\n",
      "Current iteration: 25 - Current Prediction: 9\n",
      "Successful\n"
     ]
    },
    {
     "data": {
      "image/png": "[encoded data removed]",
      "text/plain": [
       "<matplotlib.figure.Figure at 0x7f860b61ad10>"
      ]
     },
     "metadata": {},
     "output_type": "display_data"
    },
    {
     "name": "stdout",
     "output_type": "stream",
     "text": [
      "--------------------------------------\n",
      "Creating adv. example for target class 0\n",
      "Maximum number of iterations: 39.0\n",
      "Current iteration: 5 - Current Prediction: 9\n",
      "Current iteration: 10 - Current Prediction: 9\n",
      "Current iteration: 15 - Current Prediction: 9\n",
      "Current iteration: 20 - Current Prediction: 8\n",
      "Current iteration: 25 - Current Prediction: 8\n",
      "Current iteration: 30 - Current Prediction: 8\n",
      "Current iteration: 35 - Current Prediction: 8\n",
      "Successful\n"
     ]
    },
    {
     "data": {
      "image/png": "[encoded data removed]",
      "text/plain": [
       "<matplotlib.figure.Figure at 0x7f86186ceed0>"
      ]
     },
     "metadata": {},
     "output_type": "display_data"
    },
    {
     "name": "stdout",
     "output_type": "stream",
     "text": [
      "--------------------------------------\n",
      "Creating adv. example for target class 1\n",
      "Maximum number of iterations: 39.0\n",
      "Current iteration: 5 - Current Prediction: 9\n",
      "Current iteration: 10 - Current Prediction: 9\n",
      "Current iteration: 15 - Current Prediction: 9\n",
      "Current iteration: 20 - Current Prediction: 4\n",
      "Successful\n"
     ]
    },
    {
     "data": {
      "image/png": "[encoded data removed]",
      "text/plain": [
       "<matplotlib.figure.Figure at 0x7f8618244c50>"
      ]
     },
     "metadata": {},
     "output_type": "display_data"
    },
    {
     "name": "stdout",
     "output_type": "stream",
     "text": [
      "--------------------------------------\n",
      "Creating adv. example for target class 2\n",
      "Maximum number of iterations: 39.0\n",
      "Current iteration: 5 - Current Prediction: 9\n",
      "Current iteration: 10 - Current Prediction: 9\n",
      "Current iteration: 15 - Current Prediction: 2\n",
      "Successful\n"
     ]
    },
    {
     "data": {
      "image/png": "[encoded data removed]",
      "text/plain": [
       "<matplotlib.figure.Figure at 0x7f86180e8f90>"
      ]
     },
     "metadata": {},
     "output_type": "display_data"
    },
    {
     "name": "stdout",
     "output_type": "stream",
     "text": [
      "--------------------------------------\n",
      "Creating adv. example for target class 3\n",
      "Maximum number of iterations: 39.0\n",
      "Current iteration: 5 - Current Prediction: 9\n",
      "Current iteration: 10 - Current Prediction: 9\n",
      "Current iteration: 15 - Current Prediction: 9\n",
      "Successful\n"
     ]
    },
    {
     "data": {
      "image/png": "[encoded data removed]",
      "text/plain": [
       "<matplotlib.figure.Figure at 0x7f860b241f50>"
      ]
     },
     "metadata": {},
     "output_type": "display_data"
    },
    {
     "name": "stdout",
     "output_type": "stream",
     "text": [
      "--------------------------------------\n",
      "Creating adv. example for target class 4\n",
      "Maximum number of iterations: 39.0\n",
      "Current iteration: 5 - Current Prediction: 9\n",
      "Successful\n"
     ]
    },
    {
     "data": {
      "image/png": "[encoded data removed]",
      "text/plain": [
       "<matplotlib.figure.Figure at 0x7f86183e8ed0>"
      ]
     },
     "metadata": {},
     "output_type": "display_data"
    },
    {
     "name": "stdout",
     "output_type": "stream",
     "text": [
      "--------------------------------------\n",
      "Creating adv. example for target class 5\n",
      "Maximum number of iterations: 39.0\n",
      "Current iteration: 5 - Current Prediction: 9\n",
      "Current iteration: 10 - Current Prediction: 9\n",
      "Successful\n"
     ]
    },
    {
     "data": {
      "image/png": "[encoded data removed]",
      "text/plain": [
       "<matplotlib.figure.Figure at 0x7f8618550950>"
      ]
     },
     "metadata": {},
     "output_type": "display_data"
    },
    {
     "name": "stdout",
     "output_type": "stream",
     "text": [
      "--------------------------------------\n",
      "Creating adv. example for target class 6\n",
      "Maximum number of iterations: 39.0\n",
      "Current iteration: 5 - Current Prediction: 9\n",
      "Current iteration: 10 - Current Prediction: 9\n",
      "Successful\n"
     ]
    },
    {
     "data": {
      "image/png": "[encoded data removed]",
      "text/plain": [
       "<matplotlib.figure.Figure at 0x7f8618244fd0>"
      ]
     },
     "metadata": {},
     "output_type": "display_data"
    },
    {
     "name": "stdout",
     "output_type": "stream",
     "text": [
      "--------------------------------------\n",
      "Creating adv. example for target class 7\n",
      "Maximum number of iterations: 39.0\n",
      "Current iteration: 5 - Current Prediction: 9\n",
      "Current iteration: 10 - Current Prediction: 9\n",
      "Current iteration: 15 - Current Prediction: 9\n",
      "Successful\n"
     ]
    },
    {
     "data": {
      "image/png": "[encoded data removed]",
      "text/plain": [
       "<matplotlib.figure.Figure at 0x7f860b58d950>"
      ]
     },
     "metadata": {},
     "output_type": "display_data"
    },
    {
     "name": "stdout",
     "output_type": "stream",
     "text": [
      "--------------------------------------\n",
      "Creating adv. example for target class 8\n",
      "Maximum number of iterations: 39.0\n",
      "Current iteration: 5 - Current Prediction: 8\n",
      "Successful\n"
     ]
    },
    {
     "data": {
      "image/png": "[encoded data removed]",
      "text/plain": [
       "<matplotlib.figure.Figure at 0x7f86180daa90>"
      ]
     },
     "metadata": {},
     "output_type": "display_data"
    },
    {
     "name": "stdout",
     "output_type": "stream",
     "text": [
      "Avg. rate of successful adv. examples 0.11\n",
      "Avg. rate of perturbed features 0.00\n",
      "Avg. rate of perturbed features for successful adversarial examples 0.00\n"
     ]
    },
    {
     "data": {
      "image/png": "[encoded data removed]",
      "text/plain": [
       "<matplotlib.figure.Figure at 0x7f86188ef750>"
      ]
     },
     "metadata": {},
     "output_type": "display_data"
    }
   ],
   "source": [
    "###########################################################################\n",
    "# Craft adversarial examples using the Jacobian-based saliency map approach\n",
    "###########################################################################\n",
    "print('Crafting ' + str(FLAGS.source_samples) + ' * ' +\n",
    "      str(FLAGS.nb_classes-1) + ' adversarial examples')\n",
    "\n",
    "# This array indicates whether an adversarial example was found for each\n",
    "# test set sample and target class\n",
    "results = np.zeros((FLAGS.nb_classes, FLAGS.source_samples), dtype='i')\n",
    "\n",
    "# This array contains the fraction of perturbed features for each test set\n",
    "# sample and target class\n",
    "perturbations = np.zeros((FLAGS.nb_classes, FLAGS.source_samples),\n",
    "                         dtype='f')\n",
    "\n",
    "# Define the TF graph for the model's Jacobian\n",
    "grads = jacobian_graph(predictions_1, x, FLAGS.nb_classes)\n",
    "\n",
    "# Initialize our array for grid visualization\n",
    "grid_shape = (FLAGS.nb_classes,\n",
    "              FLAGS.nb_classes,\n",
    "              FLAGS.img_rows,\n",
    "              FLAGS.img_cols,\n",
    "              FLAGS.nb_channels)\n",
    "grid_viz_data = np.zeros(grid_shape, dtype='f')\n",
    "\n",
    "index = [3,2,1,18,4,8,11,0,61,7]\n",
    "\n",
    "# Loop over the samples we want to perturb into adversarial examples\n",
    "i = 0\n",
    "for sample_ind in index:\n",
    "    # We want to find an adversarial example for each possible target class\n",
    "    # (i.e. all classes that differ from the label given in the dataset)\n",
    "    current_class = int(np.argmax(Y_test[sample_ind]))\n",
    "    target_classes = other_classes(FLAGS.nb_classes, current_class)\n",
    "\n",
    "    # For the grid visualization, keep original images along the diagonal\n",
    "    grid_viz_data[current_class, current_class, :, :, :] = np.reshape(\n",
    "            X_test[sample_ind:(sample_ind+1)],\n",
    "            (FLAGS.img_rows, FLAGS.img_cols, FLAGS.nb_channels))\n",
    "\n",
    "    # Loop over all target classes\n",
    "    for target in target_classes:\n",
    "        print('--------------------------------------')\n",
    "        print('Creating adv. example for target class ' + str(target))\n",
    "\n",
    "        # This call runs the Jacobian-based saliency map approach\n",
    "        adv_x, res, percent_perturb = jsma(sess, x, predictions_1, grads,\n",
    "                                           X_test[sample_ind:\n",
    "                                                  (sample_ind+1)],\n",
    "                                           target, theta=1, gamma=0.1,\n",
    "                                           increase=True, back='tf',\n",
    "                                           clip_min=0, clip_max=1)\n",
    "\n",
    "        # Display the original and adversarial images side-by-side\n",
    "        if FLAGS.viz_enabled:\n",
    "            if 'figure' not in vars():\n",
    "                    figure = pair_visual(\n",
    "                            np.reshape(X_test[sample_ind:(sample_ind+1)],\n",
    "                                       (FLAGS.img_rows, FLAGS.img_cols)),\n",
    "                            np.reshape(adv_x,\n",
    "                                       (FLAGS.img_rows, FLAGS.img_cols)))\n",
    "            else:\n",
    "                figure = pair_visual(\n",
    "                        np.reshape(X_test[sample_ind:(sample_ind+1)],\n",
    "                                   (FLAGS.img_rows, FLAGS.img_cols)),\n",
    "                        np.reshape(adv_x, (FLAGS.img_rows,\n",
    "                                   FLAGS.img_cols)), figure)\n",
    "\n",
    "        # Add our adversarial example to our grid data\n",
    "        grid_viz_data[target, current_class, :, :, :] = np.reshape(\n",
    "                adv_x, (FLAGS.img_rows, FLAGS.img_cols, FLAGS.nb_channels))\n",
    "\n",
    "        # Update the arrays for later analysis\n",
    "        results[target, i] = res\n",
    "        perturbations[target, i] = percent_perturb\n",
    "\n",
    "# Compute the number of adversarial examples that were successfuly found\n",
    "nb_targets_tried = ((FLAGS.nb_classes - 1) * FLAGS.source_samples)\n",
    "succ_rate = float(np.sum(results)) / nb_targets_tried\n",
    "print('Avg. rate of successful adv. examples {0:.2f}'.format(succ_rate))\n",
    "\n",
    "# Compute the average distortion introduced by the algorithm\n",
    "percent_perturbed = np.mean(perturbations)\n",
    "print('Avg. rate of perturbed features {0:.2f}'.format(percent_perturbed))\n",
    "\n",
    "# Compute the average distortion introduced for successful samples only\n",
    "percent_perturb_succ = np.mean(perturbations * (results == 1))\n",
    "print('Avg. rate of perturbed features for successful '\n",
    "      'adversarial examples {0:.2f}'.format(percent_perturb_succ))\n",
    "\n",
    "# Close TF session\n",
    "sess.close()\n",
    "\n",
    "# Finally, block & display a grid of all the adversarial examples\n",
    "if FLAGS.viz_enabled:\n",
    "    _ = grid_visual(grid_viz_data)"
   ]
  },
  {
   "cell_type": "code",
   "execution_count": 33,
   "metadata": {
    "collapsed": false,
    "scrolled": true
   },
   "outputs": [
    {
     "data": {
      "image/png": "[encoded data removed]",
      "text/plain": [
       "<matplotlib.figure.Figure at 0x7f85cb4eb050>"
      ]
     },
     "metadata": {},
     "output_type": "display_data"
    },
    {
     "data": {
      "text/plain": [
       "0.09948979591836735"
      ]
     },
     "execution_count": 33,
     "metadata": {},
     "output_type": "execute_result"
    }
   ],
   "source": [
    "# demon a advesarial example\n",
    "img_rows = 28;\n",
    "img_cols = 28;\n",
    "figure = pair_visual(np.reshape(grid_viz_data[4][0],\n",
    "                                (img_rows, img_cols)),\n",
    "                     np.reshape(grid_viz_data[0][0],(img_rows, img_cols)))\n",
    "x = np.reshape(grid_viz_data[4][0],(img_rows, img_cols)) - np.reshape(grid_viz_data[0][0],(img_rows, img_cols))\n",
    "np.count_nonzero(x)\n",
    "float(62/(28*28))\n",
    "float(39*2/(28*28))"
   ]
  },
  {
   "cell_type": "markdown",
   "metadata": {},
   "source": [
    "## pack"
   ]
  },
  {
   "cell_type": "code",
   "execution_count": 10,
   "metadata": {
    "collapsed": true
   },
   "outputs": [],
   "source": [
    "from six.moves import cPickle as pickle\n",
    "pickle_file = 'adv_jsma_G11.pickle'\n",
    "\n",
    "try:\n",
    "    f = open(pickle_file, 'wb')\n",
    "    save = {\n",
    "        'adv_dataset': grid_viz_data,\n",
    "        }\n",
    "    pickle.dump(save, f, pickle.HIGHEST_PROTOCOL)\n",
    "    f.close()\n",
    "except Exception as e:\n",
    "    print('Unable to save data to', pickle_file, ':', e)\n",
    "    raise"
   ]
  },
  {
   "cell_type": "code",
   "execution_count": 11,
   "metadata": {
    "collapsed": false
   },
   "outputs": [
    {
     "name": "stdout",
     "output_type": "stream",
     "text": [
      "Test set (10, 10, 28, 28, 1)\n"
     ]
    }
   ],
   "source": [
    "from six.moves import cPickle as pickle\n",
    "pickle_file = 'adv_jsma_G11.pickle'\n",
    "\n",
    "with open(pickle_file, 'rb') as f:\n",
    "    save = pickle.load(f)\n",
    "    adv_dataset = save['adv_dataset']\n",
    "    del save  # hint to help gc free up memory\n",
    "    print('Test set', adv_dataset.shape)"
   ]
  },
  {
   "cell_type": "code",
   "execution_count": 12,
   "metadata": {
    "collapsed": true
   },
   "outputs": [],
   "source": [
    "def model_eval_single(sess, x, y, model, X_test, args=None):\n",
    "    \"\"\"\n",
    "    Compute the accuracy of a TF model on some data\n",
    "    :param sess: TF session to use when training the graph\n",
    "    :param x: input placeholder\n",
    "    :param y: output placeholder (for labels)\n",
    "    :param model: model output predictions\n",
    "    :param X_test: numpy array with training inputs\n",
    "    :param Y_test: numpy array with training outputs\n",
    "    :param args: dict or argparse `Namespace` object.\n",
    "                 Should contain `batch_size`\n",
    "    :return: a float with the accuracy value\n",
    "    \"\"\"\n",
    "\n",
    "    # Define symbol for accuracy\n",
    "    # Keras 2.0 categorical_accuracy no longer calculates the mean internally\n",
    "    # tf.reduce_mean is called in here and is backward compatible with previous\n",
    "    # versions of Keras\n",
    "    acc_value = model\n",
    "\n",
    "\n",
    "    with sess.as_default():\n",
    "        cur_acc = acc_value.eval(\n",
    "            feed_dict={x: X_test,\n",
    "                       keras.backend.learning_phase(): 0})\n",
    "\n",
    "\n",
    "        # Divide by number of examples to get final value\n",
    "        accuracy = cur_acc\n",
    "\n",
    "    return accuracy"
   ]
  },
  {
   "cell_type": "code",
   "execution_count": 14,
   "metadata": {
    "collapsed": false
   },
   "outputs": [
    {
     "name": "stdout",
     "output_type": "stream",
     "text": [
      "[[ 0.0947522   0.09726564  0.09869497  0.11104508  0.10063614  0.10713132\n",
      "   0.09639183  0.10044535  0.09564225  0.09799524]\n",
      " [ 0.09529196  0.09829812  0.0990233   0.11030627  0.09991632  0.1124934\n",
      "   0.0969669   0.09805311  0.0957875   0.09386314]\n",
      " [ 0.09558042  0.09791765  0.0995901   0.10551623  0.10045564  0.10995198\n",
      "   0.0968787   0.10074896  0.09691475  0.0964456 ]]\n"
     ]
    }
   ],
   "source": [
    "accuracy = model_eval_single(sess, x, y, predictions_1, X_test[0:3], Y_test)\n",
    "print(accuracy)"
   ]
  },
  {
   "cell_type": "code",
   "execution_count": 13,
   "metadata": {
    "collapsed": false
   },
   "outputs": [
    {
     "name": "stdout",
     "output_type": "stream",
     "text": [
      "[[ 0.09475221  0.09726563  0.09869497  0.11104508  0.10063614  0.10713132\n",
      "   0.09639183  0.10044536  0.09564225  0.09799524]]\n"
     ]
    }
   ],
   "source": [
    "inp = grid_viz_data[7][7]\n",
    "inp = np.reshape(inp, (1,28,28,1))\n",
    "sess = tf.Session()\n",
    "keras.backend.set_session(sess)\n",
    "init_op = tf.global_variables_initializer()\n",
    "sess.run(init_op)\n",
    "accuracy = model_eval_single(sess, x, y, predictions_1, X_test[0:1], Y_test)\n",
    "print(accuracy)"
   ]
  },
  {
   "cell_type": "code",
   "execution_count": null,
   "metadata": {
    "collapsed": true
   },
   "outputs": [],
   "source": []
  },
  {
   "cell_type": "code",
   "execution_count": 45,
   "metadata": {
    "collapsed": true
   },
   "outputs": [],
   "source": [
    "inp = np.reshape(inp,(28,28,1))"
   ]
  },
  {
   "cell_type": "code",
   "execution_count": 16,
   "metadata": {
    "collapsed": false
   },
   "outputs": [
    {
     "data": {
      "image/png": "[encoded data removed]",
      "text/plain": [
       "<matplotlib.figure.Figure at 0x7f8618a83910>"
      ]
     },
     "metadata": {},
     "output_type": "display_data"
    }
   ],
   "source": [
    "img_rows = 28\n",
    "img_cols = 28\n",
    "figure = pair_visual(np.reshape(inp,\n",
    "                                (img_rows, img_cols)),\n",
    "                     np.reshape(grid_viz_data[1][7],(img_rows, img_cols)))"
   ]
  },
  {
   "cell_type": "code",
   "execution_count": null,
   "metadata": {
    "collapsed": true
   },
   "outputs": [],
   "source": []
  }
 ],
 "metadata": {
  "kernelspec": {
   "display_name": "Python 2",
   "language": "python",
   "name": "python2"
  },
  "language_info": {
   "codemirror_mode": {
    "name": "ipython",
    "version": 2
   },
   "file_extension": ".py",
   "mimetype": "text/x-python",
   "name": "python",
   "nbconvert_exporter": "python",
   "pygments_lexer": "ipython2",
   "version": "2.7.13"
  }
 },
 "nbformat": 4,
 "nbformat_minor": 2
}
