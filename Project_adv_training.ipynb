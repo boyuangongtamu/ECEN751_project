{
 "cells": [
  {
   "cell_type": "code",
   "execution_count": 13,
   "metadata": {
    "collapsed": false
   },
   "outputs": [],
   "source": [
    "from __future__ import absolute_import\n",
    "from __future__ import division\n",
    "from __future__ import print_function\n",
    "from __future__ import unicode_literals\n",
    "\n",
    "import keras\n",
    "import numpy as np\n",
    "import os\n",
    "from six.moves import xrange\n",
    "\n",
    "import tensorflow as tf\n",
    "from tensorflow.python.platform import app\n",
    "from tensorflow.python.platform import flags\n",
    "\n",
    "from cleverhans.utils_mnist import data_mnist\n",
    "from cleverhans.utils_tf import model_train, model_eval, batch_eval\n",
    "\n",
    "from cleverhans.attacks import fgsm\n",
    "from cleverhans.attacks_tf import jacobian_graph\n",
    "from cleverhans.utils import other_classes, cnn_model, pair_visual, grid_visual\n",
    "from Gnet import G_10,G_11,G_12,G_13\n",
    "\n",
    "\n"
   ]
  },
  {
   "cell_type": "code",
   "execution_count": 4,
   "metadata": {
    "collapsed": true
   },
   "outputs": [],
   "source": [
    "FLAGS = flags.FLAGS\n",
    "\n",
    "flags.DEFINE_string('train_dir', '/home/boyuan/Documents/research/Advesarial_examples/Project/test_store/test1', 'Directory storing the saved model.')\n",
    "flags.DEFINE_string('filename', 'cnnmodel.ckpt', 'Filename to save model under.')\n",
    "flags.DEFINE_integer('nb_epochs', 6, 'Number of epochs to train model')\n",
    "flags.DEFINE_integer('batch_size', 128, 'Size of training batches')\n",
    "flags.DEFINE_float('learning_rate', 0.1, 'Learning rate for training')"
   ]
  },
  {
   "cell_type": "code",
   "execution_count": 5,
   "metadata": {
    "collapsed": false,
    "scrolled": true
   },
   "outputs": [
    {
     "name": "stdout",
     "output_type": "stream",
     "text": [
      "Created TensorFlow session and set Keras backend.\n",
      "X_train shape: (60000, 28, 28, 1)\n",
      "60000 train samples\n",
      "10000 test samples\n",
      "Loaded MNIST test data.\n",
      "Defined TensorFlow model graph.\n",
      "INFO:tensorflow:Restoring parameters from /home/boyuan/Documents/research/Advesarial_examples/Project/store/G11/G11model\n",
      "Test accuracy on legitimate test examples: 0.9849\n"
     ]
    }
   ],
   "source": [
    "import tensorflow as tf\n",
    "# Set TF random seed to improve reproducibility\n",
    "tf.set_random_seed(1234)\n",
    "\n",
    "###########################################################################\n",
    "# Define the dataset and model\n",
    "###########################################################################\n",
    "\n",
    "# Image dimensions ordering should follow the Theano convention\n",
    "if keras.backend.image_dim_ordering() != 'tf':\n",
    "    keras.backend.set_image_dim_ordering('tf')\n",
    "    print(\"INFO: '~/.keras/keras.json' sets 'image_dim_ordering' \"\n",
    "          \"to 'th', temporarily setting to 'tf'\")\n",
    "\n",
    "# Create TF session and set as Keras backend session\n",
    "sess = tf.Session()\n",
    "keras.backend.set_session(sess)\n",
    "print(\"Created TensorFlow session and set Keras backend.\")\n",
    "\n",
    "# Get MNIST test data\n",
    "X_train, Y_train, X_test, Y_test = data_mnist()\n",
    "print(\"Loaded MNIST test data.\")\n",
    "\n",
    "# Define input TF placeholder\n",
    "x = tf.placeholder(tf.float32, shape=(None, 28, 28, 1))\n",
    "y = tf.placeholder(tf.float32, shape=(None, 10))\n",
    "###########################################################################\n",
    "# Training the model using TensorFlow\n",
    "###########################################################################\n",
    "save_path = os.path.join(FLAGS.train_dir, FLAGS.filename)\n",
    "# Define TF model graph\n",
    "model = G_11()\n",
    "predictions_1 = model(x)\n",
    "\n",
    "print(\"Defined TensorFlow model graph.\")\n",
    "saver = tf.train.Saver()\n",
    "\n",
    "save_path2 = '/home/boyuan/Documents/research/Advesarial_examples/Project/store/G11/G11model'\n",
    "#save_path3 = '/home/boyuan/Documents/research/Advesarial_examples/Project/store/G10/G10model'\n",
    "saver.restore(sess, save_path2)\n",
    "#saver.restore(sess, save_path3)\n",
    "# Evaluate the accuracy of the MNIST model on legitimate test examples\n",
    "eval_params = {'batch_size': FLAGS.batch_size}\n",
    "accuracy = model_eval(sess, x, y, predictions_1, X_test, Y_test,\n",
    "                      args=eval_params)\n",
    "assert X_test.shape[0] == 10000, X_test.shape\n",
    "print('Test accuracy on legitimate test examples: {0}'.format(accuracy))\n"
   ]
  },
  {
   "cell_type": "code",
   "execution_count": 14,
   "metadata": {
    "collapsed": true
   },
   "outputs": [
    {
     "ename": "NameError",
     "evalue": "name 'predictions' is not defined",
     "output_type": "error",
     "traceback": [
      "\u001b[0;31m---------------------------------------------------------------------------\u001b[0m",
      "\u001b[0;31mNameError\u001b[0m                                 Traceback (most recent call last)",
      "\u001b[0;32m<ipython-input-14-11ac60987e25>\u001b[0m in \u001b[0;36m<module>\u001b[0;34m()\u001b[0m\n\u001b[1;32m      6\u001b[0m \u001b[0;34m\u001b[0m\u001b[0m\n\u001b[1;32m      7\u001b[0m \u001b[0;31m# Evaluate the accuracy of the MNIST model on adversarial examples\u001b[0m\u001b[0;34m\u001b[0m\u001b[0;34m\u001b[0m\u001b[0m\n\u001b[0;32m----> 8\u001b[0;31m accuracy = model_eval(sess, x, y, predictions, X_test_adv, Y_test,\n\u001b[0m\u001b[1;32m      9\u001b[0m                       args=eval_params)\n\u001b[1;32m     10\u001b[0m \u001b[0;32mprint\u001b[0m\u001b[0;34m(\u001b[0m\u001b[0;34m'Test accuracy on adversarial examples: '\u001b[0m \u001b[0;34m+\u001b[0m \u001b[0mstr\u001b[0m\u001b[0;34m(\u001b[0m\u001b[0maccuracy\u001b[0m\u001b[0;34m)\u001b[0m\u001b[0;34m)\u001b[0m\u001b[0;34m\u001b[0m\u001b[0m\n",
      "\u001b[0;31mNameError\u001b[0m: name 'predictions' is not defined"
     ]
    }
   ],
   "source": [
    "# Craft adversarial examples using Fast Gradient Sign Method (FGSM)\n",
    "adv_x = fgsm(x, predictions_1, eps=0.3)\n",
    "eval_params = {'batch_size': FLAGS.batch_size}\n",
    "X_test_adv, = batch_eval(sess, [x], [adv_x], [X_test], args=eval_params)\n",
    "assert X_test_adv.shape[0] == 10000, X_test_adv.shape\n",
    "\n"
   ]
  },
  {
   "cell_type": "code",
   "execution_count": 15,
   "metadata": {
    "collapsed": false,
    "scrolled": true
   },
   "outputs": [
    {
     "name": "stdout",
     "output_type": "stream",
     "text": [
      "Test accuracy on adversarial examples: 0.1279\n"
     ]
    }
   ],
   "source": [
    "# Evaluate the accuracy of the MNIST model on adversarial examples\n",
    "accuracy = model_eval(sess, x, y, predictions_1, X_test_adv, Y_test,\n",
    "                      args=eval_params)\n",
    "print('Test accuracy on adversarial examples: ' + str(accuracy))"
   ]
  },
  {
   "cell_type": "code",
   "execution_count": 22,
   "metadata": {
    "collapsed": false
   },
   "outputs": [
    {
     "data": {
      "text/plain": [
       "28"
      ]
     },
     "execution_count": 22,
     "metadata": {},
     "output_type": "execute_result"
    }
   ],
   "source": [
    "X_test[0].shape[0]"
   ]
  },
  {
   "cell_type": "code",
   "execution_count": 24,
   "metadata": {
    "collapsed": false
   },
   "outputs": [
    {
     "name": "stdout",
     "output_type": "stream",
     "text": [
      "Repeating the process, using adversarial training\n",
      "Epoch 0\n",
      "\tEpoch took 2597.62343216 seconds\n",
      "Test accuracy on legitimate test examples: 0.9475\n",
      "Test accuracy on adversarial examples: 0.5444\n",
      "Epoch 1\n",
      "\tEpoch took 2630.78867388 seconds\n",
      "Test accuracy on legitimate test examples: 0.9654\n",
      "Test accuracy on adversarial examples: 0.5825\n",
      "Epoch 2\n",
      "\tEpoch took 2795.96334314 seconds\n",
      "Test accuracy on legitimate test examples: 0.9718\n",
      "Test accuracy on adversarial examples: 0.6261\n",
      "Epoch 3\n",
      "\tEpoch took 2692.30176401 seconds\n",
      "Test accuracy on legitimate test examples: 0.975\n",
      "Test accuracy on adversarial examples: 0.5941\n",
      "Epoch 4\n",
      "\tEpoch took 2604.72439909 seconds\n",
      "Test accuracy on legitimate test examples: 0.9776\n",
      "Test accuracy on adversarial examples: 0.8205\n",
      "Epoch 5\n",
      "\tEpoch took 2552.36292696 seconds\n",
      "Test accuracy on legitimate test examples: 0.9807\n",
      "Test accuracy on adversarial examples: 0.7155\n",
      "Completed model training and saved at:/home/boyuan/Documents/research/Advesarial_examples/Project/store/G11_adv/G11_advmodel\n"
     ]
    },
    {
     "data": {
      "text/plain": [
       "True"
      ]
     },
     "execution_count": 24,
     "metadata": {},
     "output_type": "execute_result"
    }
   ],
   "source": [
    "print(\"Repeating the process, using adversarial training\")\n",
    "# Redefine TF model graph\n",
    "model_2 = G_11()\n",
    "predictions_2 = model_2(x)\n",
    "adv_x_2 = fgsm(x, predictions_2, eps=0.3)\n",
    "predictions_2_adv = model_2(adv_x_2)\n",
    "\n",
    "def evaluate_2():\n",
    "    # Evaluate the accuracy of the adversarialy trained MNIST model on\n",
    "    # legitimate test examples\n",
    "    eval_params = {'batch_size': FLAGS.batch_size}\n",
    "    accuracy = model_eval(sess, x, y, predictions_2, X_test, Y_test,\n",
    "                          args=eval_params)\n",
    "    print('Test accuracy on legitimate test examples: ' + str(accuracy))\n",
    "\n",
    "    # Evaluate the accuracy of the adversarially trained MNIST model on\n",
    "    # adversarial examples\n",
    "    accuracy_adv = model_eval(sess, x, y, predictions_2_adv, X_test,\n",
    "                              Y_test, args=eval_params)\n",
    "    print('Test accuracy on adversarial examples: ' + str(accuracy_adv))\n",
    "\n",
    "save_path3 = '/home/boyuan/Documents/research/Advesarial_examples/Project/store/G11_adv'\n",
    "# Perform adversarial training\n",
    "train_params = {\n",
    "    'nb_epochs': FLAGS.nb_epochs,\n",
    "    'batch_size': FLAGS.batch_size,\n",
    "    'learning_rate': FLAGS.learning_rate,\n",
    "    'train_dir': save_path3,\n",
    "    'filename': 'G11_advmodel'\n",
    "}\n",
    " \n",
    "model_train(sess, x, y, predictions_2, X_train, Y_train, save = True,\n",
    "            predictions_adv=predictions_2_adv, evaluate=evaluate_2,\n",
    "            args=train_params)"
   ]
  },
  {
   "cell_type": "code",
   "execution_count": null,
   "metadata": {
    "collapsed": true
   },
   "outputs": [],
   "source": []
  }
 ],
 "metadata": {
  "kernelspec": {
   "display_name": "Python 2",
   "language": "python",
   "name": "python2"
  },
  "language_info": {
   "codemirror_mode": {
    "name": "ipython",
    "version": 2
   },
   "file_extension": ".py",
   "mimetype": "text/x-python",
   "name": "python",
   "nbconvert_exporter": "python",
   "pygments_lexer": "ipython2",
   "version": "2.7.13"
  }
 },
 "nbformat": 4,
 "nbformat_minor": 2
}
